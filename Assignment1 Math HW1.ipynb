{
 "cells": [
  {
   "cell_type": "markdown",
   "id": "339b4c20",
   "metadata": {},
   "source": [
    "# Assignment 1\n",
    "\n",
    "## Gabriel Santos\n",
    "### '2022-15-07'\n",
    "\n",
    "### Math Bridge Week 1 Assignment"
   ]
  },
  {
   "cell_type": "markdown",
   "id": "2d484133",
   "metadata": {},
   "source": [
    "## Chapter 1.  Programming Challenge 1 page 22, Even-Odd Vending Machine"
   ]
  },
  {
   "cell_type": "markdown",
   "id": "98bb434a",
   "metadata": {},
   "source": [
    "Try writing an “even-odd vending machine,” which will take a number as input and do two things:\n",
    "1. Print whether the number is even or odd.\n",
    "2. Display the number followed by the next 9 even or odd numbers.\n",
    "If the input is 2, the program should print even and then print 2, 4, 6,\n",
    "8, 10, 12, 14, 16, 18, 20. Similarly, if the input is 1, the program should\n",
    "print odd and then print 1, 3, 5, 7, 9, 11, 13, 15, 17, 19.\n",
    "Your program should use the is_integer() method to display an error\n",
    "message if the input is a number with significant digits beyond the decimal\n",
    "point."
   ]
  },
  {
   "cell_type": "code",
   "execution_count": 2,
   "id": "0ae7b944",
   "metadata": {
    "scrolled": false
   },
   "outputs": [
    {
     "name": "stdout",
     "output_type": "stream",
     "text": [
      "Enter a number: 2\n",
      "Enter the last multiple: 10\n",
      "2.0 x 1 = 2.0\n",
      "2.0 x 2 = 4.0\n",
      "2.0 x 3 = 6.0\n",
      "2.0 x 4 = 8.0\n",
      "2.0 x 5 = 10.0\n",
      "2.0 x 6 = 12.0\n",
      "2.0 x 7 = 14.0\n",
      "2.0 x 8 = 16.0\n",
      "2.0 x 9 = 18.0\n",
      "2.0 x 10 = 20.0\n"
     ]
    }
   ],
   "source": [
    "def enhanced_multi_table(a, end_mult):\n",
    "    for i in range(1, int(end_mult) + 1):\n",
    "        print('{0} x {1} = {2}'.format(a, i, a * i))\n",
    "\n",
    "\n",
    "if __name__ == '__main__':\n",
    "    a = input('Enter a number: ')\n",
    "    b = input('Enter the last multiple: ')\n",
    "    enhanced_multi_table(float(a), b)"
   ]
  },
  {
   "cell_type": "markdown",
   "id": "cebce0eb",
   "metadata": {},
   "source": [
    "## Chapter 2.  Programming Challenge 2 page 55, Exploring a Quadratic Function Visually"
   ]
  },
  {
   "cell_type": "markdown",
   "id": "820e7cac",
   "metadata": {},
   "source": [
    "We can turn this equation into a function by writing\n",
    "it as y = x2 + 2x + 1. For any value of x, the quadratic function produces some\n",
    "value for y. For example, when x = 1, y = 4. Here’s a program that calculates\n",
    "the value of y for six different values of x:"
   ]
  },
  {
   "cell_type": "code",
   "execution_count": 44,
   "id": "379db20e",
   "metadata": {},
   "outputs": [
    {
     "name": "stdout",
     "output_type": "stream",
     "text": [
      "x=-2\n",
      "y= 1\n",
      "x=-1\n",
      "y= 0\n",
      "x= 0\n",
      "y= 1\n",
      "x= 1\n",
      "y= 4\n",
      "x= 2\n",
      "y= 9\n",
      "x= 8\n",
      "y= 81\n"
     ]
    },
    {
     "data": {
      "image/png": "[encoded data removed]",
      "text/plain": [
       "<Figure size 432x288 with 1 Axes>"
      ]
     },
     "metadata": {
      "needs_background": "light"
     },
     "output_type": "display_data"
    }
   ],
   "source": [
    "import matplotlib.pyplot as plt\n",
    "\n",
    "def quadratic():\n",
    "    x_values = [-2,-1, 1, 2, 3, 4, 5, 6, 7, 8]\n",
    "    y_values = []\n",
    "    for x in x_values:\n",
    "        y_values.append(x**2 + x * 2 + 1)\n",
    "    draw_graph(x_values, y_values)\n",
    "\n",
    "\n",
    "def draw_graph(x, y):\n",
    "    plt.plot(x, y, marker='o')\n",
    "    plt.xlabel('x-axis')\n",
    "\n",
    "    plt.ylabel('y-axis')\n",
    "    plt.title('Quadratic Function')\n",
    "\n",
    "\n",
    "if __name__ == '__main__':\n",
    "     quadratic()\n",
    "        \n",
    "print('x=-2')        \n",
    "x = -2\n",
    "print('y=', x**2 + x * 2 + 1 )\n",
    "\n",
    "print('x=-1')        \n",
    "x = -1\n",
    "print('y=', x**2 + x * 2 + 1 )\n",
    "\n",
    "\n",
    "print('x= 0')        \n",
    "x = 0\n",
    "print('y=', x**2 + x * 2 + 1 )\n",
    "        \n",
    "    \n",
    "    \n",
    "print('x= 1')        \n",
    "x = 1\n",
    "print('y=', x**2 + x * 2 + 1 )\n",
    "\n",
    "\n",
    "\n",
    "print('x= 2')        \n",
    "x = 2\n",
    "print('y=', x**2 + x * 2 + 1 )\n",
    "\n",
    "\n",
    "print('x= 8')        \n",
    "x = 8\n",
    "print('y=', x**2 + x * 2 + 1 )\n",
    "    \n"
   ]
  },
  {
   "cell_type": "markdown",
   "id": "12071699",
   "metadata": {},
   "source": [
    "##### According to the graph we can see that the variation is not linear, it is an exponential variation."
   ]
  },
  {
   "cell_type": "markdown",
   "id": "84a6b0b0",
   "metadata": {},
   "source": [
    "## Chapter 3.  Programming Challenge 2 page 89, Statistics Calculator"
   ]
  },
  {
   "cell_type": "markdown",
   "id": "57a6d0fc",
   "metadata": {},
   "source": [
    "Implement a statistics calculator that takes a list of numbers in the file\n",
    "mydata.txt and then calculates and prints their mean, median, mode,\n",
    "variance, and standard deviation using the functions we wrote earlier in\n",
    "this chapter."
   ]
  },
  {
   "cell_type": "code",
   "execution_count": 45,
   "id": "58680524",
   "metadata": {},
   "outputs": [
    {
     "name": "stdout",
     "output_type": "stream",
     "text": [
      "Mean: 477.75\n",
      "Median: 500.0\n",
      "Mode: [100.0, 500.0]\n",
      "Variance: 141047.35416666666\n",
      "Standard Deviation: 375.5627166887931\n"
     ]
    }
   ],
   "source": [
    "from collections import Counter\n",
    "\n",
    "\n",
    "def read_data(filename):\n",
    "    numbers = []\n",
    "    with open(filename) as f:\n",
    "        for line in f:\n",
    "            numbers.append(float(line))\n",
    "\n",
    "    return numbers\n",
    "\n",
    "\n",
    "def calculate_mean(numbers):\n",
    "    s = sum(numbers)\n",
    "    N = len(numbers)\n",
    "    mean = s / N\n",
    "\n",
    "    return mean\n",
    "\n",
    "\n",
    "def calculate_median(numbers):\n",
    "\n",
    "    N = len(numbers)\n",
    "    numbers.sort()\n",
    "\n",
    "    # Fine the median\n",
    "    if N % 2 == 0:\n",
    "        m1 = int(N / 2) - 1\n",
    "        m2 = int((N / 2) + 1) - 1\n",
    "        median = (numbers[m1] + numbers[m2]) / 2\n",
    "    else:\n",
    "        m = int((N + 1) / 2) - 1\n",
    "        median = numbers[m]\n",
    "\n",
    "    return median\n",
    "\n",
    "\n",
    "def calculate_mode(numbers):\n",
    "    c = Counter(numbers)\n",
    "    numbers_freq = c.most_common()\n",
    "\n",
    "    max_count = numbers_freq[0][1]\n",
    "\n",
    "    modes = []\n",
    "    for num in numbers_freq:\n",
    "        if num[1] == max_count:\n",
    "            modes.append(num[0])\n",
    "\n",
    "    return modes\n",
    "\n",
    "\n",
    "def find_differences(numbers):\n",
    "    # Find the mean\n",
    "    mean = calculate_mean(numbers)\n",
    "    diff = []\n",
    "    for num in numbers:\n",
    "        diff.append(num - mean)\n",
    "\n",
    "    return diff\n",
    "\n",
    "\n",
    "def calculate_variance(numbers):\n",
    "    diff = find_differences(numbers)\n",
    "    squared_diff = []\n",
    "\n",
    "    for d in diff:\n",
    "        squared_diff.append(d**2)\n",
    "    sum_squared_diff = sum(squared_diff)\n",
    "\n",
    "    variance = sum_squared_diff / len(numbers)\n",
    "\n",
    "    return variance\n",
    "\n",
    "\n",
    "if __name__ == '__main__':\n",
    "    data = read_data('mydata.txt')\n",
    "    mean = calculate_mean(data)\n",
    "    median = calculate_median(data)\n",
    "    mode = calculate_mode(data)\n",
    "    variance = calculate_variance(data)\n",
    "    std_ev = variance**0.5\n",
    "    print('Mean: {0}'.format(mean))\n",
    "    print('Median: {0}' .format(median) )\n",
    "    print('Mode: {0}'.format(mode))\n",
    "    print('Variance: {0}'.format(variance))\n",
    "    print('Standard Deviation: {0}'.format( std_ev))"
   ]
  },
  {
   "cell_type": "markdown",
   "id": "b571a6b5",
   "metadata": {},
   "source": [
    "## Chapter 4.  Programming Challenge 4 page 117, Solving Single-Variable Inequalities"
   ]
  },
  {
   "cell_type": "markdown",
   "id": "7623a20e",
   "metadata": {},
   "source": [
    "You’ve seen how to solve an equation using SymPy’s solve() function. But\n",
    "SymPy is also capable of solving single-variable inequalities, such as x + 5 > 3 and sinx − 0.6 > 0. That is, SymPy can solve relations besides equality, like >, <, and so on. For this challenge, create a function, isolve(), that will takeany inequality, solve it, and then return the solution.\n",
    "First, let’s learn about the SymPy functions that will help you implement\n",
    "this. The inequality-solving functions are available as three separate\n",
    "functions for polynomial, rational, and all other inequalities. We’ll need to\n",
    "pick the right function to solve various inequalities, or we’ll get an error.\n",
    "A polynomial is an algebraic expression consisting of a variable and\n",
    "coefficients and involving only the operations of addition, subtraction,\n",
    "and multiplication and only positive powers of the variable. An example\n",
    "of a polynomial inequality is x2 + 4 < 0.\n",
    "To solve a polynomial inequality, use the solve_poly_inequality()\n",
    "function:"
   ]
  },
  {
   "cell_type": "code",
   "execution_count": 46,
   "id": "f8146d57",
   "metadata": {},
   "outputs": [
    {
     "name": "stdout",
     "output_type": "stream",
     "text": [
      "Enter the inequality to solve: x + 5 > 3\n",
      "[Interval.open(-5, oo)]\n"
     ]
    }
   ],
   "source": [
    "from sympy import Symbol, sympify, SympifyError\n",
    "from sympy import solve_poly_inequality, solve_rational_inequalities\n",
    "from sympy import solve_univariate_inequality, Poly\n",
    "from sympy.core.relational import Relational, Equality\n",
    "\n",
    "\n",
    "def isolve(ineq_obj):\n",
    "    x = Symbol('x')\n",
    "\n",
    "    expr = ineq_obj.lhs\n",
    "    rel = ineq_obj.rel_op\n",
    "\n",
    "    if expr.is_polynomial():\n",
    "        p = Poly(expr, x)\n",
    "        return solve_poly_inequality(p, rel)\n",
    "    elif expr.is_rational_function():\n",
    "        p1, p2 = expr.as_numer_denom()\n",
    "        num = Poly(p1)\n",
    "        denom = Poly(p2)\n",
    "        return solve_rational_inequalities([[((num, denom), rel)]])\n",
    "    else:\n",
    "        return solve_univariate_inequality(ineq_obj, x, relational=False)\n",
    "\n",
    "\n",
    "if __name__ == '__main__':\n",
    "    ineq = input('Enter the inequality to solve: ')\n",
    "    try:\n",
    "        ineq_obj = sympify(ineq)\n",
    "    except SympifyError:\n",
    "        print('Invalid inequality')\n",
    "    else:\n",
    "        if isinstance(ineq_obj, Relational) and not isinstance(ineq_obj, Equality):\n",
    "            print(isolve(ineq_obj))\n",
    "        else:\n",
    "            print('Invalid inequality')"
   ]
  },
  {
   "cell_type": "markdown",
   "id": "c71b2df0",
   "metadata": {},
   "source": [
    "## Chapter 5.  Programming Challenge 2 page 143, Law of Large Numbers"
   ]
  },
  {
   "cell_type": "markdown",
   "id": "e997ff69",
   "metadata": {},
   "source": [
    "In probability, a random variable—usually denoted by X—describes\n",
    "an event. For example, X = 1 describes the event of 1 appearing upon a die\n",
    "roll, and P(X = 1) describes the associated probability. There are two kinds\n",
    "of random variables: (1) discrete random variables, which take only integral\n",
    "values and are the only kind of random variables we see in this chapter, and\n",
    "(2) continuous random variables, which—as the name suggests—can take\n",
    "any real value.\n",
    "The expectation, E, of a discrete random variable is the equivalent of the\n",
    "average or mean that we learned about in Chapter 3. The expectation can\n",
    "be calculated as follows:\n",
    "E = x1P(x1) + x2P(x2) + x3P(x3) + . . . + xnP(xn)"
   ]
  },
  {
   "cell_type": "code",
   "execution_count": 12,
   "id": "fa6a4a40",
   "metadata": {},
   "outputs": [
    {
     "name": "stdout",
     "output_type": "stream",
     "text": [
      "Expected value: 3.5\n",
      "Trials: 100 Trial average 3.91\n",
      "Trials: 1000 Trial average 3.449\n",
      "Trials: 10000 Trial average 3.5069\n",
      "Trials: 10000 Trial average 3.4597\n",
      "Trials: 100000 Trial average 3.5033\n",
      "Trials: 500000 Trial average 3.499038\n"
     ]
    }
   ],
   "source": [
    "import random\n",
    "\n",
    "def toss_die(tosses):\n",
    "    sum = 0\n",
    "    for toss in range(tosses):\n",
    "        sum += random.randint(1, 6)\n",
    "    return sum / tosses\n",
    "\n",
    "if __name__ == '__main__':\n",
    "    trials = [100, 1000, 10000, 10000, 100000, 500000]\n",
    "    print('Expected value: 3.5')\n",
    "    for trial in trials:\n",
    "        avg = toss_die(trial)\n",
    "        print('Trials: {0} Trial average {1}'.format(trial, avg))"
   ]
  },
  {
   "cell_type": "markdown",
   "id": "5a46f51f",
   "metadata": {},
   "source": [
    "## Chapter 7.  Programming Challenge 2 page 205, Implement the Gradient Descent"
   ]
  },
  {
   "cell_type": "markdown",
   "id": "48571824",
   "metadata": {},
   "source": [
    "Your challenge is to implement a generic program using the gradient\n",
    "descent algorithm to find the minimum value of a single-variable function\n",
    "specified as input by the user. The program should also create a graph\n",
    "of the function and show all the intermediate values it found before finding\n",
    "the minimum. "
   ]
  },
  {
   "cell_type": "code",
   "execution_count": 53,
   "id": "762a13f3",
   "metadata": {},
   "outputs": [
    {
     "name": "stdout",
     "output_type": "stream",
     "text": [
      "Enter a function in one variable: 123\n",
      "Enter the variable to differentiate with respect to: 7\n",
      "Enter the initial value of the variable: 2\n",
      "7: 2.00000000000000\n",
      "Maximum value: 123\n"
     ]
    }
   ],
   "source": [
    "import math\n",
    "from sympy import Derivative, Symbol, sin, sympify\n",
    "\n",
    "def grad_descent(x0, f1x, x):\n",
    " epsilon = 1e-6\n",
    " step_size = 1e-4\n",
    " x_old = x0\n",
    " #change sign from + to -\n",
    " x_new = x_old - step_size * f1x.subs({x:x_old}).evalf()\n",
    " x_steps = [x_old]\n",
    " while abs(x_old - x_new) > epsilon:\n",
    "  x_old = x_new\n",
    "  #change sign from + to -\n",
    "  x_new = x_old - step_size * f1x.subs({x:x_old}).evalf()\n",
    "  x_steps.append( x_new )\n",
    " return x_new, x_steps\n",
    "\n",
    "if __name__ == '__main__':\n",
    " f = input('Enter a function in one variable: ')\n",
    " var = input('Enter the variable to differentiate with respect to: ')\n",
    " var0 = float(input('Enter the initial value of the variable: '))\n",
    " try:\n",
    "  f = sympify(f)\n",
    " except SympifyError:\n",
    "  print('Invalid function entered')\n",
    " else:\n",
    "  var = Symbol(var)\n",
    "  d = Derivative(f, var).doit()\n",
    "  var_min, var_steps = grad_descent(var0, d, var)\n",
    "  print('{0}: {1}'.format(var.name, var_min))\n",
    "  print('Maximum value: {0}'.format(f.subs({var:var_min})))"
   ]
  },
  {
   "cell_type": "code",
   "execution_count": 55,
   "id": "ec8cb4a4",
   "metadata": {},
   "outputs": [
    {
     "data": {
      "image/png": "[encoded data removed]",
      "text/plain": [
       "<Figure size 432x288 with 1 Axes>"
      ]
     },
     "metadata": {
      "needs_background": "light"
     },
     "output_type": "display_data"
    }
   ],
   "source": [
    "y_steps = [ x**5 - 30*x**3 + 50*x for x in var_steps ]\n",
    "\n",
    "exes = [ x/100 for x in range( -1000, 1000, 1 ) ]\n",
    "\n",
    "ys = [ x**5 - 30*x**3 + 50*x for x in exes ]\n",
    "\n",
    "import matplotlib.pyplot as plt\n",
    "plt.plot( exes, whys )\n",
    "plt.plot( var_steps, y_steps, marker='o')\n",
    "plt.ylabel( 'f(x)' )\n",
    "plt.xlabel( 'x' )\n",
    "plt.xlim( -6, 6 )\n",
    "plt.ylim( -800, 800 )\n",
    "plt.title( 'Implementing Gradient Descent' )\n",
    "s = 'Initital Value:' + str( var0 )\n",
    "plt.text(var0, 150, s, fontsize=12)\n",
    "plt.show( )"
   ]
  }
 ],
 "metadata": {
  "kernelspec": {
   "display_name": "Python 3 (ipykernel)",
   "language": "python",
   "name": "python3"
  },
  "language_info": {
   "codemirror_mode": {
    "name": "ipython",
    "version": 3
   },
   "file_extension": ".py",
   "mimetype": "text/x-python",
   "name": "python",
   "nbconvert_exporter": "python",
   "pygments_lexer": "ipython3",
   "version": "3.9.13"
  }
 },
 "nbformat": 4,
 "nbformat_minor": 5
}
